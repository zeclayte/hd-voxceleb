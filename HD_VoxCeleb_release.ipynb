{
 "cells": [
  {
   "cell_type": "code",
   "execution_count": 2,
   "metadata": {},
   "outputs": [],
   "source": [
    "import os\n",
    "import numpy as np, matplotlib.pyplot as plt\n",
    "from numpy import *\n",
    "from numpy.fft import *\n",
    "from numpy import linalg as LA\n",
    "import scipy.io.wavfile as wavfile\n",
    "import scipy.signal as signal\n",
    "from matplotlib.pyplot import *\n",
    "#import sounddevice as sd\n",
    "from scipy import stats"
   ]
  },
  {
   "cell_type": "code",
   "execution_count": 3,
   "metadata": {},
   "outputs": [],
   "source": [
    "def segment(data, fs, start=None, duration=None):\n",
    "    i=int(start*fs)\n",
    "    j=int(duration*fs)\n",
    "    return data[i:i+j]"
   ]
  },
  {
   "cell_type": "code",
   "execution_count": 4,
   "metadata": {},
   "outputs": [],
   "source": [
    "def myspectrogram_hann(x,m,fs):\n",
    "    # Plot the spectrogram of x.\n",
    "    # First take the original signal x and split it into blocks of length m\n",
    "    # This corresponds to using a Hanning window\n",
    "    \n",
    "    # Inputs: \n",
    "    #         x - data\n",
    "    #         m - window size\n",
    "    #         fs - sampling rate\n",
    "    \n",
    "    # Your code here\n",
    "    lx=len(x)\n",
    "    nt=(lx+m-1)//m\n",
    "    xp=append(x,zeros(-lx+nt*m))\n",
    "\n",
    "    \n",
    "    # Task 2: Hanning windowing\n",
    "    xm=reshape(xp,(m,nt),order='F')\n",
    "    xmw=xm*outer(hanning(m),ones(nt))\n",
    "    xmf=fft(xmw,len(xmw),axis=0)\n",
    "    \n",
    "    #f_range=[0.0, fs/4]\n",
    "    #t_range=[0.0, lx/fs]\n",
    "    #fig = sg_plot(t_range, f_range, xmf[0:m//4,:], dbf=60)\n",
    "    \n",
    "    return xmf#, fig"
   ]
  },
  {
   "cell_type": "code",
   "execution_count": 5,
   "metadata": {},
   "outputs": [],
   "source": [
    "# Get directory and file names for speaker f\n",
    "def get_filenames(f):\n",
    "    \n",
    "    poi='{0:04}'.format(f+1)\n",
    "    str_poi=\"id1{}\".format(poi)\n",
    "    \n",
    "    roots=[]\n",
    "    fnames=[]\n",
    "    dirnames=[]\n",
    "    if __name__ == \"__main__\":\n",
    "        for (root,dirs,files) in os.walk(str_poi, topdown=True):\n",
    "            dirnames.append(dirs)\n",
    "            fnames.append(files)\n",
    "    \n",
    "    return dirnames, fnames, str_poi"
   ]
  },
  {
   "cell_type": "code",
   "execution_count": 6,
   "metadata": {},
   "outputs": [],
   "source": [
    "# Compute the average power for a speaker over ALL his/her test folders\n",
    "\n",
    "def pave_over_test_dirs(dirnames,fnames,str_poi, test_dir, win_pow):\n",
    "    \n",
    "    #fig4= plt.plot(figsize=(16,4))\n",
    "    \n",
    "    P_aves=[]\n",
    "    P_sigs=[]\n",
    "\n",
    "    for d  in [x for x in range(ndirs) if x != test_dir]:   \n",
    "        for j in range(0,len(fnames[d+1])):\n",
    "            full_path=os.path.join(str_poi,dirnames[0][d],fnames[d+1][j])\n",
    "            (fs, datam) = wavfile.read(full_path)\n",
    "            xmf = myspectrogram_hann(datam,win_pow,fs)\n",
    "                \n",
    "            power = abs(xmf)\n",
    "            P_ave = power.mean(axis=1)\n",
    "            P_sig = power.var(axis=1)\n",
    "\n",
    "            P_aves.append(P_ave)\n",
    "            P_sigs.append(P_sig)\n",
    "    \n",
    "    Pave = np.array(P_aves).mean(axis=0)\n",
    "    Psig = sqrt(np.array(P_sigs).mean(axis=0))\n",
    "    \n",
    "    return Pave, Psig"
   ]
  },
  {
   "cell_type": "code",
   "execution_count": 7,
   "metadata": {},
   "outputs": [],
   "source": [
    "# Compute the average power over one folder\n",
    "\n",
    "def pave_over_one_dir(dirnames, fnames, str_poi, d, win_pow):\n",
    "    \n",
    "    P_aves=[]\n",
    "    P_sigs=[]\n",
    "    #fig4= plt.plot(figsize=(16,4))\n",
    "    \n",
    "    for j in range(0, len(fnames[d+1])):\n",
    "        full_path=os.path.join(str_poi,dirnames[0][d],fnames[d+1][j])\n",
    "        (fs, datam) = wavfile.read(full_path)\n",
    "        xmf = myspectrogram_hann(datam,win_pow,fs)\n",
    "        \n",
    "        power=abs(xmf)\n",
    "        P_ave=power.mean(axis=1)\n",
    "        P_sig=power.var(axis=1)\n",
    "        \n",
    "        P_aves.append(P_ave)\n",
    "        P_sigs.append(P_sig)\n",
    "    \n",
    "    Pave = (np.array(P_aves).mean(axis=0))\n",
    "    Psig = sqrt(np.array(P_sigs).mean(axis=0))\n",
    "    \n",
    "    return Pave, Psig"
   ]
  },
  {
   "cell_type": "code",
   "execution_count": 8,
   "metadata": {},
   "outputs": [],
   "source": [
    "def normalize(xmf_ds, Pave, Psig):\n",
    "    \n",
    "    Pavem = np.outer(Pave[0:xmf_ds.shape[0]],np.ones(xmf_ds.shape[1]))\n",
    "    Psigm = np.outer(Psig[0:xmf_ds.shape[0]],np.ones(xmf_ds.shape[1]))\n",
    "    \n",
    "    xmf_norm = abs(xmf_ds) / Pavem\n",
    "    #xmf_norm = (abs(xmf_ds) - Pavem) / Psigm\n",
    "    \n",
    "    return xmf_norm"
   ]
  },
  {
   "cell_type": "code",
   "execution_count": 9,
   "metadata": {},
   "outputs": [],
   "source": [
    "def trgm(Sb, P2, P):\n",
    "    \n",
    "    (length,D) = Sb.shape\n",
    "    trigram=np.zeros((length-2,D))\n",
    "    \n",
    "    for i in range(length-2):\n",
    "        trigram[i,:]=Sb[i,:][P2]*Sb[i+1,:][P]*Sb[i+2,:]\n",
    "        \n",
    "    return trigram"
   ]
  },
  {
   "cell_type": "markdown",
   "metadata": {},
   "source": [
    "# Define Parameters"
   ]
  },
  {
   "cell_type": "code",
   "execution_count": 10,
   "metadata": {},
   "outputs": [],
   "source": [
    "D=1024\n",
    "n_poi=20\n",
    "nlabels=40\n",
    "win_pow = 80    # 64 / 16kHz = 4 ms\n",
    "win_xmf = 80\n",
    "step = 4        # 5 * 4ms = 20 ms"
   ]
  },
  {
   "cell_type": "code",
   "execution_count": 11,
   "metadata": {},
   "outputs": [],
   "source": [
    "# Generate Random HD-Vectors\n",
    "L=2*np.random.randint(2, size=(2*nlabels, D))-1\n",
    "P=np.random.permutation(D)\n",
    "P2=P[P]"
   ]
  },
  {
   "cell_type": "markdown",
   "metadata": {},
   "source": [
    "# Identify the test folder for every speaker"
   ]
  },
  {
   "cell_type": "code",
   "execution_count": 12,
   "metadata": {},
   "outputs": [],
   "source": [
    "test_dir=np.zeros(n_poi, dtype=int8)\n",
    "test_nfiles=np.zeros(n_poi, dtype=int8)\n",
    "\n",
    "for f in range(n_poi):\n",
    "    \n",
    "    dirnames,fnames, str_poi = get_filenames(f)\n",
    "    \n",
    "    ndirs=len(dirnames[0])\n",
    "    nfiles=np.zeros(ndirs)\n",
    "    ind_min=0\n",
    "    n_min=1000\n",
    "\n",
    "    for i in range(ndirs):\n",
    "        nfiles[i]=len(fnames[i+1])\n",
    "        if (len(fnames[i+1])>=5 and len(fnames[i+1])<n_min):\n",
    "            n_min=len(fnames[i+1])\n",
    "            ind_min=i\n",
    "    #print(nfiles)\n",
    "    test_dir[f]=ind_min\n",
    "    test_nfiles[f]=n_min"
   ]
  },
  {
   "cell_type": "markdown",
   "metadata": {},
   "source": [
    "# Training"
   ]
  },
  {
   "cell_type": "code",
   "execution_count": 13,
   "metadata": {},
   "outputs": [
    {
     "name": "stdout",
     "output_type": "stream",
     "text": [
      "0 548.2841875000003\n",
      "1 790.3278750000001\n",
      "2 969.370375\n",
      "3 927.2064374999998\n",
      "4 409.7633749999999\n",
      "5 1092.8475\n",
      "6 654.3646875000002\n",
      "7 884.5263124999996\n",
      "8 417.32337500000006\n",
      "9 426.8028750000001\n",
      "10 937.9271250000002\n",
      "11 1078.3691249999997\n",
      "12 282.44274999999993\n",
      "13 732.3656874999998\n",
      "14 455.7635\n",
      "15 2339.335500000001\n",
      "16 890.769125\n",
      "17 1799.6565000000005\n",
      "18 500.12456250000014\n",
      "19 4453.196500000006\n"
     ]
    }
   ],
   "source": [
    "profile=np.zeros([n_poi,D])\n",
    "profile_dcs=[]\n",
    "t_train=np.zeros(n_poi)\n",
    "\n",
    "\n",
    "for f in range(n_poi):\n",
    "    \n",
    "    dirnames,fnames, str_poi = get_filenames(f)\n",
    "    ndirs=len(dirnames[0])\n",
    "    \n",
    "    \n",
    "    t=0\n",
    "    dc=0\n",
    "    profile_d=np.zeros([ndirs-1,D])\n",
    "    for d in [x for x in range(ndirs) if x != test_dir[f]]:   \n",
    "\n",
    "        #Pave, Psig = pave_over_one_dir(dirnames, fnames, str_poi, d, win_pow)\n",
    "        \n",
    "        \n",
    "        for j in range(0, len(fnames[d+1])):\n",
    "            \n",
    "            full_path=os.path.join(str_poi,dirnames[0][d],fnames[d+1][j])\n",
    "            (fs, datam) = wavfile.read(full_path)\n",
    "            xmf = myspectrogram_hann(datam,win_xmf,fs)\n",
    "            xmf_ds = xmf[:, ::step]\n",
    "            \n",
    "            deltat=len(datam)/fs\n",
    "            t+=deltat\n",
    "            #print(t)\n",
    "            \n",
    "            power = abs(xmf_ds)**2\n",
    "            E = power.mean(axis=0)\n",
    "            \n",
    "            \n",
    "            # HD Encoder\n",
    "            P_diff = abs(xmf_ds[1:nlabels,:]) - abs(xmf_ds[0:nlabels-1,:])\n",
    "            P_sign=(P_diff>=0).astype(int)\n",
    "            \n",
    "            S=np.zeros((P_sign.shape[1],D))\n",
    "\n",
    "            for i in range(nlabels-1):\n",
    "                S+=L[2*i+P_sign[i,:],:]\n",
    "    \n",
    "            Sb=((S>=0).astype(int))*2-1\n",
    "            Sbw = np.multiply(Sb.T, E**0.25).T\n",
    "    \n",
    "            # Compute Trigrams\n",
    "            trigram = trgm(Sbw, P2, P)\n",
    "            \n",
    "    \n",
    "            #Compute Profile Vector\n",
    "            profile_d[dc,:]+=sum(trigram,0)\n",
    "        \n",
    "        \n",
    "        profile[f,:]+=profile_d[dc,:]\n",
    "        profile_d[dc,:]=profile_d[dc,:]/LA.norm(profile_d[dc,:],2)\n",
    "        dc+=1\n",
    "    \n",
    "    profile[f,:]=profile[f,:]/LA.norm(profile[f,:],2)\n",
    "                                      \n",
    "    #profile_dcs.append(profile_d)\n",
    "    print(f,t)\n",
    "    t_train[f]=t"
   ]
  },
  {
   "cell_type": "code",
   "execution_count": 22,
   "metadata": {},
   "outputs": [
    {
     "data": {
      "text/plain": [
       "<matplotlib.legend.Legend at 0x1545ce6e0>"
      ]
     },
     "execution_count": 22,
     "metadata": {},
     "output_type": "execute_result"
    },
    {
     "data": {
      "image/png": "[encoded data removed]",
      "text/plain": [
       "<Figure size 640x480 with 1 Axes>"
      ]
     },
     "metadata": {},
     "output_type": "display_data"
    }
   ],
   "source": [
    "fig2= plt.plot()\n",
    "#plt.plot((Pave[0:nlabels]),label=\"log Pave\")\n",
    "plt.plot((abs(xmf_ds[0:nlabels,100])),label=\"log Spectrum slice\")\n",
    "#plt.plot(((xmf_norm[0:nlabels,100])), label=\"log Normalized Spectrum Slice\")\n",
    "legend()"
   ]
  },
  {
   "cell_type": "code",
   "execution_count": 15,
   "metadata": {},
   "outputs": [
    {
     "data": {
      "text/plain": [
       "array([[1.        , 0.93820055, 0.95871745, 0.9763489 , 0.97960809,\n",
       "        0.943766  , 0.91413167, 0.92704057, 0.97647708, 0.96279522,\n",
       "        0.96444441, 0.92529047, 0.93108467, 0.9271218 , 0.91177374,\n",
       "        0.97110204, 0.95401087, 0.94131836, 0.94206234, 0.9381182 ],\n",
       "       [0.93820055, 1.        , 0.96118068, 0.93349277, 0.95326841,\n",
       "        0.87420381, 0.85888062, 0.88013323, 0.92144276, 0.94490457,\n",
       "        0.95429136, 0.94964482, 0.83769424, 0.8462222 , 0.84641339,\n",
       "        0.95977848, 0.95647652, 0.96726591, 0.95663355, 0.94487346],\n",
       "       [0.95871745, 0.96118068, 1.        , 0.9712199 , 0.96095079,\n",
       "        0.92190447, 0.88089294, 0.92908619, 0.96746028, 0.96029331,\n",
       "        0.97876787, 0.9455415 , 0.88794876, 0.89793963, 0.8999813 ,\n",
       "        0.96977721, 0.97379581, 0.97475027, 0.97860125, 0.94519367],\n",
       "       [0.9763489 , 0.93349277, 0.9712199 , 1.        , 0.96309886,\n",
       "        0.9612943 , 0.92641163, 0.94695543, 0.97456071, 0.97052264,\n",
       "        0.97683502, 0.9446698 , 0.9263724 , 0.95099272, 0.93741078,\n",
       "        0.95858339, 0.95570641, 0.96319237, 0.95146246, 0.92813782],\n",
       "       [0.97960809, 0.95326841, 0.96095079, 0.96309886, 1.        ,\n",
       "        0.91832356, 0.89532076, 0.89853235, 0.96841773, 0.96932515,\n",
       "        0.96223178, 0.92467484, 0.90114794, 0.90417087, 0.88384588,\n",
       "        0.97448726, 0.95808947, 0.95064454, 0.93480227, 0.92823951],\n",
       "       [0.943766  , 0.87420381, 0.92190447, 0.9612943 , 0.91832356,\n",
       "        1.        , 0.95826355, 0.9510278 , 0.94847128, 0.93769134,\n",
       "        0.94437933, 0.89754412, 0.94990996, 0.9824536 , 0.95392857,\n",
       "        0.91030158, 0.90662588, 0.91770598, 0.89948653, 0.86181718],\n",
       "       [0.91413167, 0.85888062, 0.88089294, 0.92641163, 0.89532076,\n",
       "        0.95826355, 1.        , 0.95424928, 0.90604132, 0.92951214,\n",
       "        0.92784345, 0.89931024, 0.93544018, 0.96362454, 0.95521512,\n",
       "        0.87766293, 0.87260283, 0.90211775, 0.86350372, 0.82762139],\n",
       "       [0.92704057, 0.88013323, 0.92908619, 0.94695543, 0.89853235,\n",
       "        0.9510278 , 0.95424928, 1.        , 0.92742742, 0.9299631 ,\n",
       "        0.94521064, 0.91252949, 0.92372437, 0.9453792 , 0.97762955,\n",
       "        0.89574442, 0.89426591, 0.91921312, 0.90978906, 0.85838663],\n",
       "       [0.97647708, 0.92144276, 0.96746028, 0.97456071, 0.96841773,\n",
       "        0.94847128, 0.90604132, 0.92742742, 1.        , 0.95913797,\n",
       "        0.96775193, 0.92407259, 0.92514102, 0.92633379, 0.91350303,\n",
       "        0.95801812, 0.95513735, 0.94376446, 0.93644785, 0.91609904],\n",
       "       [0.96279522, 0.94490457, 0.96029331, 0.97052264, 0.96932515,\n",
       "        0.93769134, 0.92951214, 0.9299631 , 0.95913797, 1.        ,\n",
       "        0.97288593, 0.94376909, 0.93275835, 0.93759246, 0.92252458,\n",
       "        0.96193647, 0.94604942, 0.95835403, 0.94017827, 0.91436287],\n",
       "       [0.96444441, 0.95429136, 0.97876787, 0.97683502, 0.96223178,\n",
       "        0.94437933, 0.92784345, 0.94521064, 0.96775193, 0.97288593,\n",
       "        1.        , 0.96217428, 0.92197991, 0.93045714, 0.9276009 ,\n",
       "        0.96161265, 0.96684311, 0.98022729, 0.96870822, 0.93248831],\n",
       "       [0.92529047, 0.94964482, 0.9455415 , 0.9446698 , 0.92467484,\n",
       "        0.89754412, 0.89931024, 0.91252949, 0.92407259, 0.94376909,\n",
       "        0.96217428, 1.        , 0.85351009, 0.8785181 , 0.89783683,\n",
       "        0.93115487, 0.9575116 , 0.9668724 , 0.95234422, 0.92523812],\n",
       "       [0.93108467, 0.83769424, 0.88794876, 0.9263724 , 0.90114794,\n",
       "        0.94990996, 0.93544018, 0.92372437, 0.92514102, 0.93275835,\n",
       "        0.92197991, 0.85351009, 1.        , 0.95975604, 0.92507607,\n",
       "        0.89769779, 0.86619143, 0.8736767 , 0.86657865, 0.83162007],\n",
       "       [0.9271218 , 0.8462222 , 0.89793963, 0.95099272, 0.90417087,\n",
       "        0.9824536 , 0.96362454, 0.9453792 , 0.92633379, 0.93759246,\n",
       "        0.93045714, 0.8785181 , 0.95975604, 1.        , 0.95874359,\n",
       "        0.89460315, 0.88367709, 0.89896714, 0.8722389 , 0.83173447],\n",
       "       [0.91177374, 0.84641339, 0.8999813 , 0.93741078, 0.88384588,\n",
       "        0.95392857, 0.95521512, 0.97762955, 0.91350303, 0.92252458,\n",
       "        0.9276009 , 0.89783683, 0.92507607, 0.95874359, 1.        ,\n",
       "        0.87808543, 0.87940107, 0.89499775, 0.88627786, 0.83378046],\n",
       "       [0.97110204, 0.95977848, 0.96977721, 0.95858339, 0.97448726,\n",
       "        0.91030158, 0.87766293, 0.89574442, 0.95801812, 0.96193647,\n",
       "        0.96161265, 0.93115487, 0.89769779, 0.89460315, 0.87808543,\n",
       "        1.        , 0.97575744, 0.94611173, 0.96160688, 0.94121165],\n",
       "       [0.95401087, 0.95647652, 0.97379581, 0.95570641, 0.95808947,\n",
       "        0.90662588, 0.87260283, 0.89426591, 0.95513735, 0.94604942,\n",
       "        0.96684311, 0.9575116 , 0.86619143, 0.88367709, 0.87940107,\n",
       "        0.97575744, 1.        , 0.95895828, 0.9688096 , 0.94687939],\n",
       "       [0.94131836, 0.96726591, 0.97475027, 0.96319237, 0.95064454,\n",
       "        0.91770598, 0.90211775, 0.91921312, 0.94376446, 0.95835403,\n",
       "        0.98022729, 0.9668724 , 0.8736767 , 0.89896714, 0.89499775,\n",
       "        0.94611173, 0.95895828, 1.        , 0.96234089, 0.94058991],\n",
       "       [0.94206234, 0.95663355, 0.97860125, 0.95146246, 0.93480227,\n",
       "        0.89948653, 0.86350372, 0.90978906, 0.93644785, 0.94017827,\n",
       "        0.96870822, 0.95234422, 0.86657865, 0.8722389 , 0.88627786,\n",
       "        0.96160688, 0.9688096 , 0.96234089, 1.        , 0.96099509],\n",
       "       [0.9381182 , 0.94487346, 0.94519367, 0.92813782, 0.92823951,\n",
       "        0.86181718, 0.82762139, 0.85838663, 0.91609904, 0.91436287,\n",
       "        0.93248831, 0.92523812, 0.83162007, 0.83173447, 0.83378046,\n",
       "        0.94121165, 0.94687939, 0.94058991, 0.96099509, 1.        ]])"
      ]
     },
     "execution_count": 15,
     "metadata": {},
     "output_type": "execute_result"
    }
   ],
   "source": [
    "profile@profile.T"
   ]
  },
  {
   "cell_type": "code",
   "execution_count": 16,
   "metadata": {},
   "outputs": [
    {
     "data": {
      "image/png": "[encoded data removed]",
      "text/plain": [
       "<Figure size 480x480 with 2 Axes>"
      ]
     },
     "metadata": {},
     "output_type": "display_data"
    }
   ],
   "source": [
    "cc = profile @ profile.T\n",
    "plt.matshow(cc)\n",
    "plt.colorbar()\n",
    "plt.clim(0.75,1)"
   ]
  },
  {
   "cell_type": "markdown",
   "metadata": {},
   "source": [
    "# Test with Validation Set"
   ]
  },
  {
   "cell_type": "code",
   "execution_count": 17,
   "metadata": {},
   "outputs": [
    {
     "name": "stdout",
     "output_type": "stream",
     "text": [
      "0 101.480625\n",
      "1 25.6403125\n",
      "2 24.840312500000003\n",
      "3 42.3203125\n",
      "4 37.4403125\n",
      "5 52.160374999999995\n",
      "6 39.120375\n",
      "7 65.2403125\n",
      "8 26.560312500000002\n",
      "9 37.640375\n",
      "10 45.4003125\n",
      "11 28.3203125\n",
      "12 28.480312499999997\n",
      "13 39.3603125\n",
      "14 44.08031249999999\n",
      "15 53.7203125\n",
      "16 37.600375\n",
      "17 28.8403125\n",
      "18 34.3603125\n",
      "19 56.64031249999999\n"
     ]
    }
   ],
   "source": [
    "profilet=np.zeros([n_poi,D])\n",
    "table=np.zeros((n_poi,n_poi),dtype=int)\n",
    "table5=np.zeros((n_poi,n_poi),dtype=int)\n",
    "t_test=np.zeros(n_poi)\n",
    "\n",
    "for f in range(n_poi):\n",
    "\n",
    "    dirnames,fnames, str_poi = get_filenames(f)\n",
    "    \n",
    "    t=0\n",
    "    #sim_itrs=[]\n",
    "    \n",
    "    for d in range(test_dir[f],test_dir[f]+1):\n",
    "        \n",
    "        \n",
    "        for j in range(0, len(fnames[d+1])):\n",
    "            \n",
    "            full_path=os.path.join(str_poi,dirnames[0][d],fnames[d+1][j])\n",
    "            (fs, datam) = wavfile.read(full_path)\n",
    "            xmf = myspectrogram_hann(datam,win_xmf,fs)\n",
    "            xmf_ds = xmf[:, ::step]\n",
    "            \n",
    "            deltat=len(datam)/fs\n",
    "            t+=deltat\n",
    "            #print(t)\n",
    "            \n",
    "            \n",
    "            power = abs(xmf_ds)**2\n",
    "            E = power.mean(axis=0)\n",
    "            \n",
    "            \n",
    "            # HD Encoder\n",
    "            P_diff = abs(xmf_ds[1:nlabels,:]) - abs(xmf_ds[0:nlabels-1,:])\n",
    "            P_sign=(P_diff>=0).astype(int)\n",
    "            \n",
    "            S=np.zeros((P_sign.shape[1],D))\n",
    "\n",
    "            for i in range(nlabels-1):\n",
    "                S+=L[2*i+P_sign[i,:],:]\n",
    "    \n",
    "            Sb=((S>=0).astype(int))*2-1\n",
    "            Sbw = np.multiply(Sb.T, E**0.25).T\n",
    "    \n",
    "            # Compute Trigrams\n",
    "            trigram = trgm(Sbw, P2, P)\n",
    "\n",
    "            #Compute Profile Vector\n",
    "            profilet[f,:]+=sum(trigram,0)\n",
    "\n",
    "    print(f,t)\n",
    "    t_test[f]=t\n",
    "    \n",
    "    \n",
    "    profilet[f,:]=profilet[f,:]/LA.norm(profilet[f,:],2)\n",
    "    similarity=profilet[f,:]@profile.T\n",
    "    #print(similarity)\n",
    "    #sim_itrs=np.array(sim_itrs)\n",
    "               \n",
    "    max_index=np.argmax(similarity)\n",
    "    #for k in range(sim_itrs.shape[0]):\n",
    "    table[f,max_index]+=1\n",
    "    \n",
    "    top5_indices = (-similarity).argsort()[:5]\n",
    "    table5[f,top5_indices]+=1\n",
    "    "
   ]
  },
  {
   "cell_type": "code",
   "execution_count": 18,
   "metadata": {},
   "outputs": [
    {
     "name": "stdout",
     "output_type": "stream",
     "text": [
      "Top-1:  0.9\n"
     ]
    }
   ],
   "source": [
    "accuracy=np.zeros(n_poi)\n",
    "for q in range(n_poi):\n",
    "    accuracy[q]=table[q,q]/sum(table[q,:])\n",
    "    \n",
    "print('Top-1: ', mean(accuracy))"
   ]
  },
  {
   "cell_type": "code",
   "execution_count": 19,
   "metadata": {},
   "outputs": [
    {
     "name": "stdout",
     "output_type": "stream",
     "text": [
      "Top-5:  1.0\n"
     ]
    }
   ],
   "source": [
    "c=0\n",
    "for q in range(n_poi):\n",
    "    if table5[q,q]==1:\n",
    "        c+=1\n",
    "accuracy_top5=c/n_poi\n",
    "\n",
    "print('Top-5: ', accuracy_top5)"
   ]
  }
 ],
 "metadata": {
  "kernelspec": {
   "display_name": "Python 3 (ipykernel)",
   "language": "python",
   "name": "python3"
  },
  "language_info": {
   "codemirror_mode": {
    "name": "ipython",
    "version": 3
   },
   "file_extension": ".py",
   "mimetype": "text/x-python",
   "name": "python",
   "nbconvert_exporter": "python",
   "pygments_lexer": "ipython3",
   "version": "3.10.12"
  }
 },
 "nbformat": 4,
 "nbformat_minor": 4
}
